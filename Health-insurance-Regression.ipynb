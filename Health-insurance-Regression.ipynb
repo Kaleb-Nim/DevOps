{
 "cells": [
  {
   "cell_type": "code",
   "execution_count": 2,
   "metadata": {},
   "outputs": [
    {
     "ename": "ModuleNotFoundError",
     "evalue": "No module named 'pandas_profiling'",
     "output_type": "error",
     "traceback": [
      "\u001b[1;31m---------------------------------------------------------------------------\u001b[0m",
      "\u001b[1;31mModuleNotFoundError\u001b[0m                       Traceback (most recent call last)",
      "\u001b[1;32mc:\\Users\\Kaleb Nim\\Documents\\GitHub\\DevOps\\Health-insurance-Regression.ipynb Cell 1\u001b[0m in \u001b[0;36m<module>\u001b[1;34m\u001b[0m\n\u001b[0;32m     <a href='vscode-notebook-cell:/c%3A/Users/Kaleb%20Nim/Documents/GitHub/DevOps/Health-insurance-Regression.ipynb#W0sZmlsZQ%3D%3D?line=11'>12</a>\u001b[0m \u001b[39mfrom\u001b[39;00m \u001b[39msklearn\u001b[39;00m\u001b[39m.\u001b[39;00m\u001b[39mfeature_selection\u001b[39;00m \u001b[39mimport\u001b[39;00m chi2, RFECV\n\u001b[0;32m     <a href='vscode-notebook-cell:/c%3A/Users/Kaleb%20Nim/Documents/GitHub/DevOps/Health-insurance-Regression.ipynb#W0sZmlsZQ%3D%3D?line=12'>13</a>\u001b[0m \u001b[39mimport\u001b[39;00m \u001b[39mscipy\u001b[39;00m\u001b[39m.\u001b[39;00m\u001b[39mstats\u001b[39;00m \u001b[39mas\u001b[39;00m \u001b[39mss\u001b[39;00m\n\u001b[1;32m---> <a href='vscode-notebook-cell:/c%3A/Users/Kaleb%20Nim/Documents/GitHub/DevOps/Health-insurance-Regression.ipynb#W0sZmlsZQ%3D%3D?line=13'>14</a>\u001b[0m \u001b[39mfrom\u001b[39;00m \u001b[39mpandas_profiling\u001b[39;00m \u001b[39mimport\u001b[39;00m ProfileReport\n\u001b[0;32m     <a href='vscode-notebook-cell:/c%3A/Users/Kaleb%20Nim/Documents/GitHub/DevOps/Health-insurance-Regression.ipynb#W0sZmlsZQ%3D%3D?line=14'>15</a>\u001b[0m \u001b[39m# import phik\u001b[39;00m\n\u001b[0;32m     <a href='vscode-notebook-cell:/c%3A/Users/Kaleb%20Nim/Documents/GitHub/DevOps/Health-insurance-Regression.ipynb#W0sZmlsZQ%3D%3D?line=15'>16</a>\u001b[0m \u001b[39m# from phik import resources, report\u001b[39;00m\n\u001b[0;32m     <a href='vscode-notebook-cell:/c%3A/Users/Kaleb%20Nim/Documents/GitHub/DevOps/Health-insurance-Regression.ipynb#W0sZmlsZQ%3D%3D?line=16'>17</a>\u001b[0m \n\u001b[0;32m     <a href='vscode-notebook-cell:/c%3A/Users/Kaleb%20Nim/Documents/GitHub/DevOps/Health-insurance-Regression.ipynb#W0sZmlsZQ%3D%3D?line=17'>18</a>\u001b[0m \u001b[39m# Evalutation Metrics\u001b[39;00m\n\u001b[0;32m     <a href='vscode-notebook-cell:/c%3A/Users/Kaleb%20Nim/Documents/GitHub/DevOps/Health-insurance-Regression.ipynb#W0sZmlsZQ%3D%3D?line=18'>19</a>\u001b[0m \u001b[39mfrom\u001b[39;00m \u001b[39msklearn\u001b[39;00m\u001b[39m.\u001b[39;00m\u001b[39mmetrics\u001b[39;00m \u001b[39mimport\u001b[39;00m mean_squared_error, mean_absolute_error ,r2_score ,mean_squared_log_error,mean_absolute_percentage_error\n",
      "\u001b[1;31mModuleNotFoundError\u001b[0m: No module named 'pandas_profiling'"
     ]
    }
   ],
   "source": [
    "import pandas as pd\n",
    "import numpy as np\n",
    "import matplotlib.pyplot as plt\n",
    "\n",
    "\n",
    "# plt.rcParams.update({'figure.max_open_warning': 0}) # Removes max 20 graph limit\n",
    "import seaborn as sns\n",
    "import time as time\n",
    "\n",
    "# EDA\n",
    "import plotly.express as px\n",
    "from sklearn.feature_selection import chi2, RFECV\n",
    "import scipy.stats as ss\n",
    "from pandas_profiling import ProfileReport\n",
    "# import phik\n",
    "# from phik import resources, report\n",
    "\n",
    "# Evalutation Metrics\n",
    "from sklearn.metrics import mean_squared_error, mean_absolute_error ,r2_score ,mean_squared_log_error,mean_absolute_percentage_error\n",
    "\n",
    "# Date preprocessing\n",
    "from sklearn.experimental import enable_iterative_imputer\n",
    "from sklearn.impute import KNNImputer ,SimpleImputer ,IterativeImputer\n",
    "from sklearn.pipeline import Pipeline\n",
    "from sklearn.preprocessing import OrdinalEncoder, StandardScaler ,OneHotEncoder,FunctionTransformer , MinMaxScaler\n",
    "from sklearn.compose import ColumnTransformer\n",
    "from sklearn.model_selection import train_test_split, cross_validate, StratifiedKFold, learning_curve ,cross_val_score ,GridSearchCV,KFold,RandomizedSearchCV\n",
    "from sklearn.svm import SVC\n",
    "from sklearn.decomposition import PCA\n",
    "\n",
    "#Models\n",
    "from sklearn.dummy import DummyRegressor\n",
    "from sklearn.linear_model import LinearRegression, Ridge, Lasso ,SGDRegressor ,ElasticNet ,BayesianRidge\n",
    "from sklearn.tree import DecisionTreeRegressor\n",
    "from sklearn.ensemble import RandomForestRegressor, ExtraTreesRegressor, GradientBoostingRegressor, HistGradientBoostingRegressor\n",
    "from sklearn.svm import LinearSVR ,SVR\n",
    "from sklearn.kernel_ridge import KernelRidge\n",
    "from sklearn.neighbors import KNeighborsRegressor"
   ]
  },
  {
   "cell_type": "code",
   "execution_count": 4,
   "metadata": {},
   "outputs": [
    {
     "data": {
      "text/html": [
       "<div>\n",
       "<style scoped>\n",
       "    .dataframe tbody tr th:only-of-type {\n",
       "        vertical-align: middle;\n",
       "    }\n",
       "\n",
       "    .dataframe tbody tr th {\n",
       "        vertical-align: top;\n",
       "    }\n",
       "\n",
       "    .dataframe thead th {\n",
       "        text-align: right;\n",
       "    }\n",
       "</style>\n",
       "<table border=\"1\" class=\"dataframe\">\n",
       "  <thead>\n",
       "    <tr style=\"text-align: right;\">\n",
       "      <th></th>\n",
       "      <th>age</th>\n",
       "      <th>sex</th>\n",
       "      <th>bmi</th>\n",
       "      <th>children</th>\n",
       "      <th>smoker</th>\n",
       "      <th>region</th>\n",
       "      <th>charges</th>\n",
       "    </tr>\n",
       "  </thead>\n",
       "  <tbody>\n",
       "    <tr>\n",
       "      <th>0</th>\n",
       "      <td>19</td>\n",
       "      <td>female</td>\n",
       "      <td>27.900</td>\n",
       "      <td>0</td>\n",
       "      <td>yes</td>\n",
       "      <td>southwest</td>\n",
       "      <td>16884.92400</td>\n",
       "    </tr>\n",
       "    <tr>\n",
       "      <th>1</th>\n",
       "      <td>18</td>\n",
       "      <td>male</td>\n",
       "      <td>33.770</td>\n",
       "      <td>1</td>\n",
       "      <td>no</td>\n",
       "      <td>southeast</td>\n",
       "      <td>1725.55230</td>\n",
       "    </tr>\n",
       "    <tr>\n",
       "      <th>2</th>\n",
       "      <td>28</td>\n",
       "      <td>male</td>\n",
       "      <td>33.000</td>\n",
       "      <td>3</td>\n",
       "      <td>no</td>\n",
       "      <td>southeast</td>\n",
       "      <td>4449.46200</td>\n",
       "    </tr>\n",
       "    <tr>\n",
       "      <th>3</th>\n",
       "      <td>33</td>\n",
       "      <td>male</td>\n",
       "      <td>22.705</td>\n",
       "      <td>0</td>\n",
       "      <td>no</td>\n",
       "      <td>northwest</td>\n",
       "      <td>21984.47061</td>\n",
       "    </tr>\n",
       "    <tr>\n",
       "      <th>4</th>\n",
       "      <td>32</td>\n",
       "      <td>male</td>\n",
       "      <td>28.880</td>\n",
       "      <td>0</td>\n",
       "      <td>no</td>\n",
       "      <td>northwest</td>\n",
       "      <td>3866.85520</td>\n",
       "    </tr>\n",
       "  </tbody>\n",
       "</table>\n",
       "</div>"
      ],
      "text/plain": [
       "   age     sex     bmi  children smoker     region      charges\n",
       "0   19  female  27.900         0    yes  southwest  16884.92400\n",
       "1   18    male  33.770         1     no  southeast   1725.55230\n",
       "2   28    male  33.000         3     no  southeast   4449.46200\n",
       "3   33    male  22.705         0     no  northwest  21984.47061\n",
       "4   32    male  28.880         0     no  northwest   3866.85520"
      ]
     },
     "execution_count": 4,
     "metadata": {},
     "output_type": "execute_result"
    }
   ],
   "source": [
    "df_raw = pd.read_csv('insurance.csv')\n",
    "df_raw.head()"
   ]
  },
  {
   "cell_type": "code",
   "execution_count": 5,
   "metadata": {},
   "outputs": [
    {
     "name": "stdout",
     "output_type": "stream",
     "text": [
      "Shape of train_df:(1070, 7)\n",
      "Shape of test_df:(268, 7)\n"
     ]
    }
   ],
   "source": [
    "# Split dataset into Holdout sets and Training Set (Training set will be split into Train and validation after EDA)\n",
    "train_df,test_df = train_test_split(df_raw,test_size=0.2,random_state=1)\n",
    "print(f'Shape of train_df:{train_df.shape}\\nShape of test_df:{test_df.shape}')"
   ]
  },
  {
   "cell_type": "markdown",
   "metadata": {},
   "source": [
    "# EDA"
   ]
  },
  {
   "cell_type": "code",
   "execution_count": null,
   "metadata": {},
   "outputs": [],
   "source": [
    "from pandas_profiling import ProfileReport\n",
    "profile = ProfileReport(train_df, title=\"Pandas Profiling Report\")\n",
    "profile.to_widgets()\n",
    "profile.to_file(\"your_report.html\")"
   ]
  },
  {
   "cell_type": "code",
   "execution_count": null,
   "metadata": {},
   "outputs": [],
   "source": []
  },
  {
   "cell_type": "markdown",
   "metadata": {},
   "source": [
    "# Data processing"
   ]
  },
  {
   "cell_type": "code",
   "execution_count": 7,
   "metadata": {},
   "outputs": [
    {
     "data": {
      "text/plain": [
       "['age', 'bmi', 'children', 'charges']"
      ]
     },
     "execution_count": 7,
     "metadata": {},
     "output_type": "execute_result"
    }
   ],
   "source": [
    "# Extract all numeric values\n",
    "numeric = df_raw.select_dtypes(include=np.number).columns.tolist()\n",
    "numeric"
   ]
  },
  {
   "cell_type": "code",
   "execution_count": 8,
   "metadata": {},
   "outputs": [
    {
     "data": {
      "text/html": [
       "<div>\n",
       "<style scoped>\n",
       "    .dataframe tbody tr th:only-of-type {\n",
       "        vertical-align: middle;\n",
       "    }\n",
       "\n",
       "    .dataframe tbody tr th {\n",
       "        vertical-align: top;\n",
       "    }\n",
       "\n",
       "    .dataframe thead th {\n",
       "        text-align: right;\n",
       "    }\n",
       "</style>\n",
       "<table border=\"1\" class=\"dataframe\">\n",
       "  <thead>\n",
       "    <tr style=\"text-align: right;\">\n",
       "      <th></th>\n",
       "      <th>age</th>\n",
       "      <th>sex</th>\n",
       "      <th>bmi</th>\n",
       "      <th>children</th>\n",
       "      <th>smoker</th>\n",
       "      <th>region</th>\n",
       "      <th>charges</th>\n",
       "    </tr>\n",
       "  </thead>\n",
       "  <tbody>\n",
       "    <tr>\n",
       "      <th>0</th>\n",
       "      <td>-1.438764</td>\n",
       "      <td>female</td>\n",
       "      <td>-0.453320</td>\n",
       "      <td>-0.908614</td>\n",
       "      <td>yes</td>\n",
       "      <td>southwest</td>\n",
       "      <td>0.298584</td>\n",
       "    </tr>\n",
       "    <tr>\n",
       "      <th>1</th>\n",
       "      <td>-1.509965</td>\n",
       "      <td>male</td>\n",
       "      <td>0.509621</td>\n",
       "      <td>-0.078767</td>\n",
       "      <td>no</td>\n",
       "      <td>southeast</td>\n",
       "      <td>-0.953689</td>\n",
       "    </tr>\n",
       "    <tr>\n",
       "      <th>2</th>\n",
       "      <td>-0.797954</td>\n",
       "      <td>male</td>\n",
       "      <td>0.383307</td>\n",
       "      <td>1.580926</td>\n",
       "      <td>no</td>\n",
       "      <td>southeast</td>\n",
       "      <td>-0.728675</td>\n",
       "    </tr>\n",
       "    <tr>\n",
       "      <th>3</th>\n",
       "      <td>-0.441948</td>\n",
       "      <td>male</td>\n",
       "      <td>-1.305531</td>\n",
       "      <td>-0.908614</td>\n",
       "      <td>no</td>\n",
       "      <td>northwest</td>\n",
       "      <td>0.719843</td>\n",
       "    </tr>\n",
       "    <tr>\n",
       "      <th>4</th>\n",
       "      <td>-0.513149</td>\n",
       "      <td>male</td>\n",
       "      <td>-0.292556</td>\n",
       "      <td>-0.908614</td>\n",
       "      <td>no</td>\n",
       "      <td>northwest</td>\n",
       "      <td>-0.776802</td>\n",
       "    </tr>\n",
       "  </tbody>\n",
       "</table>\n",
       "</div>"
      ],
      "text/plain": [
       "        age     sex       bmi  children smoker     region   charges\n",
       "0 -1.438764  female -0.453320 -0.908614    yes  southwest  0.298584\n",
       "1 -1.509965    male  0.509621 -0.078767     no  southeast -0.953689\n",
       "2 -0.797954    male  0.383307  1.580926     no  southeast -0.728675\n",
       "3 -0.441948    male -1.305531 -0.908614     no  northwest  0.719843\n",
       "4 -0.513149    male -0.292556 -0.908614     no  northwest -0.776802"
      ]
     },
     "execution_count": 8,
     "metadata": {},
     "output_type": "execute_result"
    }
   ],
   "source": [
    "scaler = StandardScaler()\n",
    "df_scaled = df_raw.copy()\n",
    "df_scaled[numeric] = scaler.fit_transform(df_scaled[numeric])\n",
    "df_scaled.head()"
   ]
  },
  {
   "cell_type": "code",
   "execution_count": 9,
   "metadata": {},
   "outputs": [
    {
     "data": {
      "text/html": [
       "<div>\n",
       "<style scoped>\n",
       "    .dataframe tbody tr th:only-of-type {\n",
       "        vertical-align: middle;\n",
       "    }\n",
       "\n",
       "    .dataframe tbody tr th {\n",
       "        vertical-align: top;\n",
       "    }\n",
       "\n",
       "    .dataframe thead th {\n",
       "        text-align: right;\n",
       "    }\n",
       "</style>\n",
       "<table border=\"1\" class=\"dataframe\">\n",
       "  <thead>\n",
       "    <tr style=\"text-align: right;\">\n",
       "      <th></th>\n",
       "      <th>age</th>\n",
       "      <th>bmi</th>\n",
       "      <th>children</th>\n",
       "      <th>charges</th>\n",
       "      <th>sex_male</th>\n",
       "      <th>smoker_yes</th>\n",
       "      <th>region_northwest</th>\n",
       "      <th>region_southeast</th>\n",
       "      <th>region_southwest</th>\n",
       "    </tr>\n",
       "  </thead>\n",
       "  <tbody>\n",
       "    <tr>\n",
       "      <th>0</th>\n",
       "      <td>-1.438764</td>\n",
       "      <td>-0.453320</td>\n",
       "      <td>-0.908614</td>\n",
       "      <td>0.298584</td>\n",
       "      <td>0</td>\n",
       "      <td>1</td>\n",
       "      <td>0</td>\n",
       "      <td>0</td>\n",
       "      <td>1</td>\n",
       "    </tr>\n",
       "    <tr>\n",
       "      <th>1</th>\n",
       "      <td>-1.509965</td>\n",
       "      <td>0.509621</td>\n",
       "      <td>-0.078767</td>\n",
       "      <td>-0.953689</td>\n",
       "      <td>1</td>\n",
       "      <td>0</td>\n",
       "      <td>0</td>\n",
       "      <td>1</td>\n",
       "      <td>0</td>\n",
       "    </tr>\n",
       "    <tr>\n",
       "      <th>2</th>\n",
       "      <td>-0.797954</td>\n",
       "      <td>0.383307</td>\n",
       "      <td>1.580926</td>\n",
       "      <td>-0.728675</td>\n",
       "      <td>1</td>\n",
       "      <td>0</td>\n",
       "      <td>0</td>\n",
       "      <td>1</td>\n",
       "      <td>0</td>\n",
       "    </tr>\n",
       "    <tr>\n",
       "      <th>3</th>\n",
       "      <td>-0.441948</td>\n",
       "      <td>-1.305531</td>\n",
       "      <td>-0.908614</td>\n",
       "      <td>0.719843</td>\n",
       "      <td>1</td>\n",
       "      <td>0</td>\n",
       "      <td>1</td>\n",
       "      <td>0</td>\n",
       "      <td>0</td>\n",
       "    </tr>\n",
       "    <tr>\n",
       "      <th>4</th>\n",
       "      <td>-0.513149</td>\n",
       "      <td>-0.292556</td>\n",
       "      <td>-0.908614</td>\n",
       "      <td>-0.776802</td>\n",
       "      <td>1</td>\n",
       "      <td>0</td>\n",
       "      <td>1</td>\n",
       "      <td>0</td>\n",
       "      <td>0</td>\n",
       "    </tr>\n",
       "  </tbody>\n",
       "</table>\n",
       "</div>"
      ],
      "text/plain": [
       "        age       bmi  children   charges  sex_male  smoker_yes  \\\n",
       "0 -1.438764 -0.453320 -0.908614  0.298584         0           1   \n",
       "1 -1.509965  0.509621 -0.078767 -0.953689         1           0   \n",
       "2 -0.797954  0.383307  1.580926 -0.728675         1           0   \n",
       "3 -0.441948 -1.305531 -0.908614  0.719843         1           0   \n",
       "4 -0.513149 -0.292556 -0.908614 -0.776802         1           0   \n",
       "\n",
       "   region_northwest  region_southeast  region_southwest  \n",
       "0                 0                 0                 1  \n",
       "1                 0                 1                 0  \n",
       "2                 0                 1                 0  \n",
       "3                 1                 0                 0  \n",
       "4                 1                 0                 0  "
      ]
     },
     "execution_count": 9,
     "metadata": {},
     "output_type": "execute_result"
    }
   ],
   "source": [
    "df_onehot = pd.get_dummies(df_scaled, drop_first=True)\n",
    "df_onehot.head()"
   ]
  },
  {
   "cell_type": "markdown",
   "metadata": {},
   "source": [
    "# Model Selection\n",
    "\n",
    "We will now try out different models from different family of models and select the best candidate models. \n",
    "\n",
    "1. Linear Models ( Linear Regression , BayesianRidge , SGDRegressor )\n",
    "\n",
    "2. Distance Based models (KNeighborsRegressor)\n",
    "\n",
    "3. DecisionTree ( DecisionTreeRegressor )\n",
    "\n",
    "4. Ensemble Tree Models (RandomForest, GradientBoosting)\n",
    "\n",
    "5. SVMs with different (linear, rbf, poly, sigmoid) kernels\n",
    "\n",
    "This will be done on the training set using cross validation."
   ]
  },
  {
   "cell_type": "code",
   "execution_count": null,
   "metadata": {},
   "outputs": [],
   "source": [
    "## Quick Eval function to fit and score all models at once\n",
    "def quick_evalutaion(models, X_train, X_test, y_train, y_test, metrics=[\"neg_mean_squared_error\",\"neg_mean_absolute_error\",\"neg_mean_absolute_percentage_error\"],curve = True, cv = KFold(n_splits=5,shuffle=True,random_state=1)):\n",
    "    hist = {}\n",
    "    \n",
    "    for idx, model in (enumerate(models)):\n",
    "        try:\n",
    "            clf = model(random_state=42) # Setting random_state for certain model\n",
    "        except:\n",
    "            clf = model()\n",
    "        clf.fit(X_train, y_train)\n",
    "        test_prediction = clf.predict(X_test) # Testing on validation dataset\n",
    "\n",
    "        MAPE_test = mean_absolute_percentage_error(y_test, test_prediction)\n",
    "        MAE_test = mean_absolute_error(y_test, test_prediction)\n",
    "        MSE_test = mean_squared_error(y_test,test_prediction)\n",
    "\n",
    "        # 5-Fold CV\n",
    "        cv_hist = cross_validate(clf, X_train, y_train, scoring=metrics,verbose=1)\n",
    "\n",
    "        # Record down the performance\n",
    "        hist[model.__name__] = dict(\n",
    "            # train_acc = acc_train,\n",
    "            fit_time = cv_hist['fit_time'].mean(),\n",
    "            score_time = cv_hist['score_time'].mean(),\n",
    "            cv_MAE = cv_hist['test_neg_mean_absolute_error'].mean(),\n",
    "            MAE_test_score = MAE_test,\n",
    "            cv_MAPE = cv_hist['test_neg_mean_absolute_percentage_error'].mean(),\n",
    "            MAPE_test_score = MAPE_test,\n",
    "            cv_MSE = cv_hist['test_neg_mean_squared_error'].mean(),\n",
    "            MSE_test_score = MSE_test\n",
    "        )\n",
    "\n",
    "        # Plotting the learning Curve of each Model using: neg_mean_squared_log_error\n",
    "        if curve:\n",
    "          fig, ax = plt.subplots(figsize=(10, 8))\n",
    "          train_sizes = np.linspace(.1, 1.0, 10)\n",
    "          train_sizes, train_scores, test_scores = learning_curve(clf, X_train, y_train, cv = cv, n_jobs = -1, train_sizes = train_sizes, scoring=\"neg_mean_absolute_error\")\n",
    "          scores = pd.DataFrame({\n",
    "          \"Train Sizes\" : np.tile(train_sizes, train_scores.shape[1]),\n",
    "          \"Train Scores\" : train_scores.flatten(),\n",
    "          \"Test Scores\" : test_scores.flatten()\n",
    "          }).melt(value_vars=[\"Train Scores\", \"Test Scores\"], var_name=\"Score Type\", value_name=\"Scores\", id_vars=[\"Train Sizes\"])\n",
    "          # print(f\"THis is train_sizes:\\n{train_sizes}\\n This is train_scores:\\n{train_scores}\\n This is test_scores:{test_scores}\")\n",
    "          sns.lineplot(data=scores, x=\"Train Sizes\", y=\"Scores\", hue=\"Score Type\", ax = ax ,palette=['#3DD5E2', '#A045B5'])\n",
    "          ax.set_title(f\"Learning Curve of {model}\")\n",
    "          ax.set_ylabel(\"neg_mean_absolute_error\")\n",
    "          ax.set_xlabel(\"Train Sizes\")\n",
    "          plt.show()\n",
    "        \n",
    "    # plt.tight_layout()\n",
    "    # display(pd.DataFrame(hist).T)\n",
    "\n",
    "    results = pd.DataFrame(hist).T\n",
    "    return results\n",
    "    # plt.show()"
   ]
  },
  {
   "cell_type": "code",
   "execution_count": null,
   "metadata": {},
   "outputs": [],
   "source": [
    "# Tuned RandomForest Parameters: {'n_estimators': 200, 'min_samples_split': 5, 'min_samples_leaf': 4, 'max_features': 'auto', 'max_depth': 10, 'bootstrap': True}\n"
   ]
  },
  {
   "cell_type": "code",
   "execution_count": 10,
   "metadata": {},
   "outputs": [
    {
     "ename": "SyntaxError",
     "evalue": "invalid syntax (472428151.py, line 1)",
     "output_type": "error",
     "traceback": [
      "\u001b[1;36m  Input \u001b[1;32mIn [10]\u001b[1;36m\u001b[0m\n\u001b[1;33m    model = RandomForestRegressor('n_estimators': 200, 'min_samples_split': 5, 'min_samples_leaf': 4, 'max_features': 'auto', 'max_depth': 10, 'bootstrap': True)\u001b[0m\n\u001b[1;37m                                                ^\u001b[0m\n\u001b[1;31mSyntaxError\u001b[0m\u001b[1;31m:\u001b[0m invalid syntax\n"
     ]
    }
   ],
   "source": [
    "model = RandomForestRegressor()\n",
    "\n",
    "model.fit(X_train, y_train)\n",
    "# Savemodel\n",
    "import pickle\n",
    "pickle.dump(model, open('model.pkl','wb'))\n"
   ]
  },
  {
   "cell_type": "code",
   "execution_count": null,
   "metadata": {},
   "outputs": [],
   "source": [
    "# load from file\n",
    "from joblib import load\n",
    "\n",
    "model = load('/content/model.pkl')\n",
    "\n",
    "# Extract one row from x_test\n",
    "x_test = X_test.iloc[0:1]\n",
    "\n",
    "# Predict on one sample\n",
    "model.predict()"
   ]
  },
  {
   "cell_type": "code",
   "execution_count": 1,
   "metadata": {},
   "outputs": [],
   "source": [
    "json = {\n",
    "    \"age\": 1,\n",
    "    \"sex\":\"male\",\n",
    "    \"bmi\": 0.4,\n",
    "    \"children\": 0.6,\n",
    "    \"smoker\":\"no\",\n",
    "    \"region\": \"southeast\"\n",
    "}"
   ]
  },
  {
   "cell_type": "code",
   "execution_count": 3,
   "metadata": {},
   "outputs": [
    {
     "ename": "KeyError",
     "evalue": "255",
     "output_type": "error",
     "traceback": [
      "\u001b[1;31m---------------------------------------------------------------------------\u001b[0m",
      "\u001b[1;31mKeyError\u001b[0m                                  Traceback (most recent call last)",
      "\u001b[1;32mc:\\Users\\Kaleb Nim\\Documents\\GitHub\\DevOps\\Health-insurance-Regression.ipynb Cell 17\u001b[0m in \u001b[0;36m<module>\u001b[1;34m\u001b[0m\n\u001b[0;32m      <a href='vscode-notebook-cell:/c%3A/Users/Kaleb%20Nim/Documents/GitHub/DevOps/Health-insurance-Regression.ipynb#X22sZmlsZQ%3D%3D?line=0'>1</a>\u001b[0m \u001b[39m# load from file\u001b[39;00m\n\u001b[0;32m      <a href='vscode-notebook-cell:/c%3A/Users/Kaleb%20Nim/Documents/GitHub/DevOps/Health-insurance-Regression.ipynb#X22sZmlsZQ%3D%3D?line=1'>2</a>\u001b[0m \u001b[39mfrom\u001b[39;00m \u001b[39mjoblib\u001b[39;00m \u001b[39mimport\u001b[39;00m load\n\u001b[1;32m----> <a href='vscode-notebook-cell:/c%3A/Users/Kaleb%20Nim/Documents/GitHub/DevOps/Health-insurance-Regression.ipynb#X22sZmlsZQ%3D%3D?line=3'>4</a>\u001b[0m model \u001b[39m=\u001b[39m load(\u001b[39m'\u001b[39;49m\u001b[39mmodel.pkl\u001b[39;49m\u001b[39m'\u001b[39;49m)\n",
      "File \u001b[1;32mc:\\Users\\Kaleb Nim\\anaconda3\\lib\\site-packages\\joblib\\numpy_pickle.py:587\u001b[0m, in \u001b[0;36mload\u001b[1;34m(filename, mmap_mode)\u001b[0m\n\u001b[0;32m    581\u001b[0m             \u001b[39mif\u001b[39;00m \u001b[39misinstance\u001b[39m(fobj, \u001b[39mstr\u001b[39m):\n\u001b[0;32m    582\u001b[0m                 \u001b[39m# if the returned file object is a string, this means we\u001b[39;00m\n\u001b[0;32m    583\u001b[0m                 \u001b[39m# try to load a pickle file generated with an version of\u001b[39;00m\n\u001b[0;32m    584\u001b[0m                 \u001b[39m# Joblib so we load it with joblib compatibility function.\u001b[39;00m\n\u001b[0;32m    585\u001b[0m                 \u001b[39mreturn\u001b[39;00m load_compatibility(fobj)\n\u001b[1;32m--> 587\u001b[0m             obj \u001b[39m=\u001b[39m _unpickle(fobj, filename, mmap_mode)\n\u001b[0;32m    588\u001b[0m \u001b[39mreturn\u001b[39;00m obj\n",
      "File \u001b[1;32mc:\\Users\\Kaleb Nim\\anaconda3\\lib\\site-packages\\joblib\\numpy_pickle.py:506\u001b[0m, in \u001b[0;36m_unpickle\u001b[1;34m(fobj, filename, mmap_mode)\u001b[0m\n\u001b[0;32m    504\u001b[0m obj \u001b[39m=\u001b[39m \u001b[39mNone\u001b[39;00m\n\u001b[0;32m    505\u001b[0m \u001b[39mtry\u001b[39;00m:\n\u001b[1;32m--> 506\u001b[0m     obj \u001b[39m=\u001b[39m unpickler\u001b[39m.\u001b[39;49mload()\n\u001b[0;32m    507\u001b[0m     \u001b[39mif\u001b[39;00m unpickler\u001b[39m.\u001b[39mcompat_mode:\n\u001b[0;32m    508\u001b[0m         warnings\u001b[39m.\u001b[39mwarn(\u001b[39m\"\u001b[39m\u001b[39mThe file \u001b[39m\u001b[39m'\u001b[39m\u001b[39m%s\u001b[39;00m\u001b[39m'\u001b[39m\u001b[39m has been generated with a \u001b[39m\u001b[39m\"\u001b[39m\n\u001b[0;32m    509\u001b[0m                       \u001b[39m\"\u001b[39m\u001b[39mjoblib version less than 0.10. \u001b[39m\u001b[39m\"\u001b[39m\n\u001b[0;32m    510\u001b[0m                       \u001b[39m\"\u001b[39m\u001b[39mPlease regenerate this pickle file.\u001b[39m\u001b[39m\"\u001b[39m\n\u001b[0;32m    511\u001b[0m                       \u001b[39m%\u001b[39m filename,\n\u001b[0;32m    512\u001b[0m                       \u001b[39mDeprecationWarning\u001b[39;00m, stacklevel\u001b[39m=\u001b[39m\u001b[39m3\u001b[39m)\n",
      "File \u001b[1;32mc:\\Users\\Kaleb Nim\\anaconda3\\lib\\pickle.py:1212\u001b[0m, in \u001b[0;36m_Unpickler.load\u001b[1;34m(self)\u001b[0m\n\u001b[0;32m   1210\u001b[0m             \u001b[39mraise\u001b[39;00m \u001b[39mEOFError\u001b[39;00m\n\u001b[0;32m   1211\u001b[0m         \u001b[39massert\u001b[39;00m \u001b[39misinstance\u001b[39m(key, bytes_types)\n\u001b[1;32m-> 1212\u001b[0m         dispatch[key[\u001b[39m0\u001b[39;49m]](\u001b[39mself\u001b[39m)\n\u001b[0;32m   1213\u001b[0m \u001b[39mexcept\u001b[39;00m _Stop \u001b[39mas\u001b[39;00m stopinst:\n\u001b[0;32m   1214\u001b[0m     \u001b[39mreturn\u001b[39;00m stopinst\u001b[39m.\u001b[39mvalue\n",
      "\u001b[1;31mKeyError\u001b[0m: 255"
     ]
    }
   ],
   "source": [
    "# load from file\n",
    "from joblib import load\n",
    "\n",
    "model = load('model.pkl')\n"
   ]
  },
  {
   "cell_type": "code",
   "execution_count": null,
   "metadata": {},
   "outputs": [],
   "source": [
    "from sklearn.preprocessing import OneHotEncoder\n",
    " \n",
    "\n",
    "def preProcess(json_data,main_df=df_raw):\n",
    "    '''\n",
    "    This function takes in a single json object as input (with all features)\n",
    "    (Input must follow specific ordering)\n",
    "    Performs data preprocessing which includes:\n",
    "    - One hot encoding\n",
    "    - Scaling\n",
    "    Returns a single row dataframe with all features for prediction\n",
    "    '''\n",
    "    # Create a single row dataframe from the json object\n",
    "    df = pd.DataFrame(json_data,index=[0])\n",
    "\n",
    "    # Extract all numeric values\n",
    "    numeric = df.select_dtypes(include=['number']).columns.tolist()\n",
    "\n",
    "    # Scale numeric values\n",
    "    scaler = StandardScaler()\n",
    "    df_scaled = df.copy()\n",
    "    scaler.fit(main_df[numeric])\n",
    "    df_scaled[numeric] = scaler.transform(df_scaled[numeric])\n",
    "    \n",
    "    # One hot encode categorical values\n",
    "    categorical = df.select_dtypes(exclude=['number']).columns.tolist()\n",
    "\n",
    "    # one hot encode categorical values\n",
    "    ohe = OneHotEncoder(sparse=False,handle_unknown='ignore',drop='first')\n",
    "    ohe.fit(main_df[categorical])\n",
    "\n",
    "    df_ohe = pd.DataFrame(ohe.transform(df[categorical]),columns=ohe.get_feature_names_out(categorical))\n",
    "    # Concatenate the scaled numeric and one hot encoded categorical values\n",
    "    df_final = pd.concat([df_scaled[numeric],df_ohe],axis=1)\n",
    "    \n",
    "    # Return the final dataframe and original dataframe\n",
    "    return df_final, df\n",
    "\n",
    "   "
   ]
  },
  {
   "cell_type": "code",
   "execution_count": null,
   "metadata": {},
   "outputs": [],
   "source": [
    "prediction_input, original = preProcess(json)"
   ]
  },
  {
   "cell_type": "code",
   "execution_count": null,
   "metadata": {},
   "outputs": [],
   "source": [
    "prediction = model.predict(prediction_input)\n",
    "output = prediction[0]\n",
    "print(output)"
   ]
  }
 ],
 "metadata": {
  "kernelspec": {
   "display_name": "Python 3.9.12 ('base')",
   "language": "python",
   "name": "python3"
  },
  "language_info": {
   "codemirror_mode": {
    "name": "ipython",
    "version": 3
   },
   "file_extension": ".py",
   "mimetype": "text/x-python",
   "name": "python",
   "nbconvert_exporter": "python",
   "pygments_lexer": "ipython3",
   "version": "3.9.12"
  },
  "orig_nbformat": 4,
  "vscode": {
   "interpreter": {
    "hash": "f7186b2864a0ffc4380ea05acfb42e5210fa817b1320a946347780daa718caf1"
   }
  }
 },
 "nbformat": 4,
 "nbformat_minor": 2
}
